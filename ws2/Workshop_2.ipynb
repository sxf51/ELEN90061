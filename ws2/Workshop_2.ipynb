{
 "cells": [
  {
   "cell_type": "markdown",
   "metadata": {},
   "source": [
    "**<font color='red'>Report Submission Information (must be completed before submitting report!)</font>**\n",
    "\n",
    "* Student 1 Full Name and Number : \n",
    "* Student 2 Full Name and Number : \n",
    "* Workshop day : e.g., Wednesday\n",
    "* Workshop time : e.g., 12pm "
   ]
  },
  {
   "cell_type": "markdown",
   "metadata": {},
   "source": [
    "# Workshop 2 Part 2 - Graphs Network Routing \n",
    "\n",
    "## Objectives:\n",
    "\n",
    "* Gain hands-on experience on network addressing, graphs, and routing protocols.\n",
    "* Practical experience with IPv4 and MAC addresses, prefixes, and [CIDR](https://en.wikipedia.org/wiki/Classless_Inter-Domain_Routing) using python.\n",
    "* Learn how to represent graphs.\n",
    "* Program a basic routing protocol such as the Dijkstra’s algorithm.\n",
    "\n",
    "> __Common objectives of all workshops:__\n",
    "> Gain hands-on experience and learn by doing! Understand how theoretical knowledge discussed in lectures relates to practice. Develop motivation for gaining further theoretical and practical knowledge beyond the subject material.\n",
    "\n",
    "## Overview:\n",
    "In this workshop you will gain practical experience on networking and graph theory basics we have covered in the classroom such as network addressing, graphs, and routing protocols. Firstly, you will learn how to program simple graphs in python using *networkx* library. Secondly, you will program a basic routing protocol such as the Dijkstra’s algorithm and find shortest paths on simple graphs. \n",
    "\n",
    "This workshop gives you a chance to implement the theory you have learned in the lectures and gain some practical experience on fundamentals of graphs and networking. The topics are especially relevant to Layers 2 and 3."
   ]
  },
  {
   "cell_type": "markdown",
   "metadata": {
    "collapsed": true
   },
   "source": [
    "## Workshop Preparation: [before you arrive to the lab]\n",
    "\n",
    "You can come to the workshops as you are or you can prepare beforehand to learn much more! \n",
    "We will give you a lot of time to finish the tasks but those are the bare minimums. Just like in the lectures, the topics we cover in the workshops are quite deep and we can only do so much in two hours. There is much more to learn and coming prepared to the workshop is one of the best ways to gain more knowledge! For example, there are a few questions in each workshop which you can answer beforehand.\n",
    "\n",
    "> __Self-learning__ is one of the most important skills that you should acquire as a student. Today, self-learning is much easier than it used to be thanks to a plethora of online resources.\n",
    "For this workshop, start by exploring the resource mentioned in the preparation steps below.\n",
    "\n",
    "### Workshop Preparation Steps:\n",
    "\n",
    "1. Common step for all workshops: read the Workshop Manual (in this case in form of Jupyter Notebook) beforehand!    \n",
    "2. Review relevant lecture slides on addressing, graph theory, and routing.\n",
    "3. Read Chapter 4 from Tanenbaum and Chapter 5 from Kurose-Ross.\n",
    "4. Read [netaddr](https://netaddr.readthedocs.io/en/latest/index.html) and [networkx](https://networkx.github.io/documentation/stable/index.html) documentation.\n",
    "5. Practice your Python skills.\n",
    "6. [optional] read introductory material about network science and graph theory.\n",
    "7. _\\[optional\\]_ _You can start with workshop tasks and questions_\n",
    "\n",
    "\n",
    "## Tasks and Questions:\n",
    "\n",
    "Follow the procedures described below, perform the given tasks and answer the workshop questions __preferably__ on the Python notebook itself! If you prefer, however, you can still provide answers as separate scripts and submit all in a zip file. The marks associated with each question are clearly stated. Keep your answers to the point and complete to get full marks! Ensure that your code is clean and appropriately commented. \n",
    "\n",
    "__The resulting notebook will be (part of) your Workshop Report!__\n",
    "\n",
    "> __The goal is to learn__, NOT blindly follow the procedures in the fastest possible way! __Do not simply copy-paste answers (from Internet, ChatGPT, friends, etc.). You can and should use all available resources but only to develop your own understanding. If you copy-paste, you will pay the price in the oral exam!__"
   ]
  },
  {
   "cell_type": "markdown",
   "metadata": {},
   "source": [
    "# Section 1: Longest Prefix Match and Routing Tables\n",
    "\n",
    "[Longest prefix matching](https://en.wikipedia.org/wiki/Longest_prefix_match) is used by internet routers \n",
    "to select the matching entry for an incoming packet from a forwarding table using the packet's destination address. This lookup functionality is often implemented in hardware as a [network search engine](https://en.wikipedia.org/wiki/Network_search_engine). There are very efficient algorithms for doing longest prefix matching using special data structures such as [trie, also called digital tree or prefix tree](https://en.wikipedia.org/wiki/Trie). \n",
    "\n",
    "*Hint: Here is a nice [online resource](https://www.geeksforgeeks.org/longest-common-prefix-using-character-by-character-matching/) as a starting point. Also note the more sophisticated variants there.*"
   ]
  },
  {
   "cell_type": "markdown",
   "metadata": {},
   "source": [
    "### Simple, Illustrative Example\n",
    "\n",
    "You have a simple router with a single input port and 4 output ports labeled as {a, b, c, d, e}. The router has the following forwarding table **forward_table** represented as a dictionary. Note that all packets that do not match to the table go to port e."
   ]
  },
  {
   "cell_type": "code",
   "execution_count": 1,
   "metadata": {},
   "outputs": [],
   "source": [
    "# %matplotlib notebook\n",
    "from IPython import display\n",
    "import numpy as np\n",
    "import random \n",
    "import matplotlib.pyplot as plt\n",
    "\n",
    "from netaddr import *\n",
    "import pprint  #this is optional"
   ]
  },
  {
   "cell_type": "markdown",
   "metadata": {},
   "source": [
    "**<font color='red'>Do not forget to change the variables below for full credit!</font>**"
   ]
  },
  {
   "cell_type": "code",
   "execution_count": 2,
   "metadata": {},
   "outputs": [],
   "source": [
    "# Fixing random seed ensures that you always get the same pseudorandom numbers when using random package. \n",
    "# We do this to ensure reproducability but each group should have a different one. Here is a suggestion!\n",
    "#\n",
    "# You can use the hash of the ratio of your student numbers to obtain a unique, group-specific seed.\n",
    "\n",
    "studentid1 = 1372750\n",
    "studentid2 = 1454161\n",
    "a = hash(studentid1/studentid2) # use a hash of a function of your student id numbers for random seed\n",
    "random.seed(a) # needs to be called in each cell below"
   ]
  },
  {
   "cell_type": "code",
   "execution_count": 3,
   "metadata": {},
   "outputs": [
    {
     "name": "stdout",
     "output_type": "stream",
     "text": [
      "{'92.134.50.0/14': 'a', '92.134.50.0/17': 'b', '225.57.137.0/12': 'c', '225.57.137.0/18': 'd'}\n"
     ]
    }
   ],
   "source": [
    "def gen_random_ipaddr(number):\n",
    "    # generate number of random ip addresses as a list of strings\n",
    "    addresses = []\n",
    "    for i in range(number):\n",
    "        random.seed(a+10+i)\n",
    "        addresses.append(str(random.randrange(1,255))+\".\"+str(random.randrange(1,255))\n",
    "                         +\".\"+str(random.randrange(1,255))+\".\"+str(random.randrange(1,255)))\n",
    "    return addresses\n",
    "\n",
    "def gen_random_subnet(prefix,seed_add):\n",
    "    # generate a random subnet with given prefix as a string, taking also a seed_add \n",
    "    random.seed(a+seed_add)\n",
    "    subnet = str(random.randrange(1,255))+\".\"+str(random.randrange(1,255)) \\\n",
    "                +\".\"+str(random.randrange(1,255))+\".0\"+\"/\"+str(prefix)\n",
    "    return subnet\n",
    "\n",
    "forward_table={gen_random_subnet(14,1):\"a\", gen_random_subnet(17,1):\"b\", \n",
    "                   gen_random_subnet(12, 5):\"c\",gen_random_subnet(18, 5):\"d\"}\n",
    "\n",
    "print(forward_table)"
   ]
  },
  {
   "cell_type": "markdown",
   "metadata": {},
   "source": [
    "Assume that 12 different packets arrive to this router with the following IP addresses:"
   ]
  },
  {
   "cell_type": "code",
   "execution_count": 4,
   "metadata": {
    "scrolled": true
   },
   "outputs": [
    {
     "name": "stdout",
     "output_type": "stream",
     "text": [
      "['182.171.156.181', '204.136.153.183', '113.164.246.166', '56.139.138.117', '92.134.50.178', '92.134.142.71', '92.134.50.204', '92.134.121.94', '225.57.137.94', '225.57.63.66', '225.57.137.190', '225.57.70.242']\n"
     ]
    }
   ],
   "source": [
    "ip_addresses = gen_random_ipaddr(4)\n",
    "for key in forward_table:\n",
    "    ipbase = key.replace('/','.').split('.')\n",
    "    random.seed(a+hash(key))\n",
    "    ip_addresses.append(ipbase[0]+\".\"+ipbase[1]+\".\"+ipbase[2]+\".\"+str(random.randrange(1,255)))\n",
    "    random.seed(a+hash(key)+2)\n",
    "    ip_addresses.append(ipbase[0]+\".\"+ipbase[1]+\".\"+str(random.randrange(1,255))+\".\"+str(random.randrange(1,255)))\n",
    "\n",
    "print(ip_addresses)  "
   ]
  },
  {
   "cell_type": "markdown",
   "metadata": {},
   "source": [
    "### Question 1.1.\n",
    "\n",
    "Write a *simple* longest prefix matching algorithm (computational efficiency is **not** important) to assign these packets to their respective output ports. "
   ]
  },
  {
   "cell_type": "code",
   "execution_count": null,
   "metadata": {},
   "outputs": [
    {
     "name": "stdout",
     "output_type": "stream",
     "text": [
      "{'113.164.246.166': 'e',\n",
      " '182.171.156.181': 'e',\n",
      " '204.136.153.183': 'e',\n",
      " '225.57.137.190': 'd',\n",
      " '225.57.137.94': 'd',\n",
      " '225.57.63.66': 'c',\n",
      " '225.57.70.242': 'c',\n",
      " '56.139.138.117': 'e',\n",
      " '92.134.121.94': 'b',\n",
      " '92.134.142.71': 'a',\n",
      " '92.134.50.178': 'b',\n",
      " '92.134.50.204': 'b'}\n",
      "Default port is 'e'\n"
     ]
    }
   ],
   "source": [
    "''' Answer as code here '''\n",
    "import ipaddress\n",
    "packet_ports = {}\n",
    "\n",
    "for ip in ip_addresses:\n",
    "    # ip_obj = IPNetwork(ip)\n",
    "    ip_obj = ipaddress.ip_address(ip)\n",
    "    longest_prefix = -1\n",
    "    selected_port = 'e'  # default port if no match\n",
    "    for subnet, port in forward_table.items():\n",
    "        # net = IPNetwork(subnet)\n",
    "        net = ipaddress.ip_network(subnet, strict=False)\n",
    "        if ip_obj in net:\n",
    "            prefix_len = net.prefixlen\n",
    "            if prefix_len > longest_prefix:\n",
    "                longest_prefix = prefix_len\n",
    "                selected_port = port\n",
    "    packet_ports[ip] = selected_port\n",
    "\n",
    "pprint.pprint(packet_ports)\n",
    "print(\"Default port is 'e'\")"
   ]
  },
  {
   "cell_type": "markdown",
   "metadata": {},
   "source": [
    "**Answer as text here**"
   ]
  },
  {
   "cell_type": "markdown",
   "metadata": {},
   "source": [
    "*Hint: You can use Python standard library **ipaddress** for convenience, see below:*"
   ]
  },
  {
   "cell_type": "code",
   "execution_count": 15,
   "metadata": {},
   "outputs": [
    {
     "data": {
      "text/plain": [
       "False"
      ]
     },
     "execution_count": 15,
     "metadata": {},
     "output_type": "execute_result"
    }
   ],
   "source": [
    "import ipaddress\n",
    "addr = ipaddress.ip_address('159.206.52.59')\n",
    "netw1 = ipaddress.ip_network('137.150.0.0/17')\n",
    "addr in netw1"
   ]
  },
  {
   "cell_type": "markdown",
   "metadata": {},
   "source": [
    "# Section 2: Graphs\n",
    "\n",
    "In this section, you will define simple graphs using the networkx python library. \n",
    "\n",
    "Please refer to the [networkx library documentation](https://networkx.github.io/documentation/stable/index.html) for the following tasks."
   ]
  },
  {
   "cell_type": "code",
   "execution_count": 17,
   "metadata": {},
   "outputs": [],
   "source": [
    "import networkx as nx"
   ]
  },
  {
   "cell_type": "markdown",
   "metadata": {},
   "source": [
    "We will first create and draw a simple undirected graph, which is predefined in the library using"
   ]
  },
  {
   "cell_type": "code",
   "execution_count": 18,
   "metadata": {},
   "outputs": [
    {
     "data": {
      "image/png": "[encoded data removed]",
      "text/plain": [
       "<Figure size 640x480 with 1 Axes>"
      ]
     },
     "metadata": {},
     "output_type": "display_data"
    }
   ],
   "source": [
    "expmaze=nx.sedgewick_maze_graph()\n",
    "\n",
    "plt.figure()\n",
    "nx.draw_circular(expmaze, with_labels=True)"
   ]
  },
  {
   "cell_type": "markdown",
   "metadata": {},
   "source": [
    "The networkx library provides multiple drawing options; feel free to experiment!\n",
    "\n",
    "Next, let’s investigate some of the basic properties of this graph."
   ]
  },
  {
   "cell_type": "markdown",
   "metadata": {},
   "source": [
    "### Question 2.1. \n",
    "\n",
    "Find the list of nodes (vertices) and edges (links) of this graph. Find the list of node 4’s neighbours. What are the degrees of all the nodes and the mean degree of the graph?  "
   ]
  },
  {
   "cell_type": "code",
   "execution_count": 19,
   "metadata": {},
   "outputs": [
    {
     "name": "stdout",
     "output_type": "stream",
     "text": [
      "Nodes: [0, 1, 2, 3, 4, 5, 6, 7]\n",
      "Edges: [(0, 2), (0, 7), (0, 5), (1, 7), (2, 6), (3, 4), (3, 5), (4, 5), (4, 7), (4, 6)]\n",
      "Neighbours of node 4: [3, 5, 7, 6]\n",
      "Degrees of all nodes: {0: 3, 1: 1, 2: 2, 3: 2, 4: 4, 5: 3, 6: 2, 7: 3}\n",
      "Mean degree of the graph: 2.5\n"
     ]
    }
   ],
   "source": [
    "''' Answer as code here '''\n",
    "# List of nodes (vertices)\n",
    "nodes = list(expmaze.nodes())\n",
    "print(\"Nodes:\", nodes)\n",
    "\n",
    "# List of edges (links)\n",
    "edges = list(expmaze.edges())\n",
    "print(\"Edges:\", edges)\n",
    "\n",
    "# Neighbours of node 4\n",
    "neighbors_4 = list(expmaze.neighbors(4))\n",
    "print(\"Neighbours of node 4:\", neighbors_4)\n",
    "\n",
    "# Degrees of all nodes\n",
    "degrees = dict(expmaze.degree())\n",
    "print(\"Degrees of all nodes:\", degrees)\n",
    "\n",
    "# Mean degree of the graph\n",
    "mean_degree = sum(degrees.values()) / len(degrees)\n",
    "print(\"Mean degree of the graph:\", mean_degree)"
   ]
  },
  {
   "cell_type": "markdown",
   "metadata": {},
   "source": [
    "**Answer as text here**"
   ]
  },
  {
   "cell_type": "markdown",
   "metadata": {},
   "source": [
    "### Question 2.2.\n",
    "\n",
    "Find the adjacency matrix of this graph. Is the matrix symmetric? Why or why not?"
   ]
  },
  {
   "cell_type": "code",
   "execution_count": 21,
   "metadata": {},
   "outputs": [
    {
     "name": "stdout",
     "output_type": "stream",
     "text": [
      "Adjacency Matrix:\n",
      " [[0 0 1 0 0 1 0 1]\n",
      " [0 0 0 0 0 0 0 1]\n",
      " [1 0 0 0 0 0 1 0]\n",
      " [0 0 0 0 1 1 0 0]\n",
      " [0 0 0 1 0 1 1 1]\n",
      " [1 0 0 1 1 0 0 0]\n",
      " [0 0 1 0 1 0 0 0]\n",
      " [1 1 0 0 1 0 0 0]]\n",
      "Is the adjacency matrix symmetric: True\n"
     ]
    }
   ],
   "source": [
    "''' Answer as code here '''\n",
    "# Find the adjacency matrix of expmaze\n",
    "adj_matrix = nx.adjacency_matrix(expmaze).todense()\n",
    "print(\"Adjacency Matrix:\\n\", adj_matrix)\n",
    "\n",
    "# Check if the matrix is symmetric\n",
    "is_symmetric = (adj_matrix == adj_matrix.T).all()\n",
    "print(\"Is the adjacency matrix symmetric:\", is_symmetric)"
   ]
  },
  {
   "cell_type": "markdown",
   "metadata": {},
   "source": [
    "**Answer as text here**"
   ]
  },
  {
   "cell_type": "markdown",
   "metadata": {},
   "source": [
    "In the graph above, it is an **undirected graph**. Therefore, for any edge (u, v), its two vertices u and v are adjacent. This is manifested in the adjacency matrix as a diagonal matrix."
   ]
  },
  {
   "cell_type": "markdown",
   "metadata": {},
   "source": [
    "# Section 3: Routing and Dijskstra’s Algorithm\t\n",
    "\n",
    "In this section, you will implement Dijkstra’s shortest path routing algorithm as discussed during lectures for simple graphs and check your answers using the networkx python library.\n",
    "\n",
    "Let's create a graph representing a network first!"
   ]
  },
  {
   "cell_type": "code",
   "execution_count": 22,
   "metadata": {},
   "outputs": [
    {
     "data": {
      "text/plain": [
       "{('u', 'v'): Text(0.5000012499513105, 1.5000012499513105, '2'),\n",
       " ('u', 'w'): Text(0.9999950797646308, 1.4999975398823153, '5'),\n",
       " ('u', 'x'): Text(0.5000012499513105, 0.4999987500486896, '1'),\n",
       " ('v', 'x'): Text(1.0, 1.0000011748052204, '2'),\n",
       " ('v', 'w'): Text(1.5000020185252652, 2.0, '3'),\n",
       " ('x', 'w'): Text(1.49999713464058, 0.9999942692811603, '3'),\n",
       " ('x', 'y'): Text(1.5000020185252652, 0.0, '1'),\n",
       " ('w', 'y'): Text(2.0000000000000004, 1.0000011748052204, '1'),\n",
       " ('w', 'z'): Text(2.500001249951311, 1.4999987500486895, '5'),\n",
       " ('y', 'z'): Text(2.500001249951311, 0.5000012499513102, '2')}"
      ]
     },
     "execution_count": 22,
     "metadata": {},
     "output_type": "execute_result"
    },
    {
     "data": {
      "image/png": "[encoded data removed]",
      "text/plain": [
       "<Figure size 640x480 with 1 Axes>"
      ]
     },
     "metadata": {},
     "output_type": "display_data"
    }
   ],
   "source": [
    "# Create the graph\n",
    "G = nx.Graph()\n",
    "G.add_nodes_from(['u', 'v', 'x', 'w', 'y', 'z'])\n",
    "G.add_weighted_edges_from([('u', 'v', 2), ('u', 'w', 5), ('u', 'x', 1), ('x', 'v', 2),\n",
    "                           ('x', 'w', 3), ('x', 'y', 1), ('v', 'w', 3), ('y', 'w', 1),\n",
    "                           ('y', 'z', 2), ('w', 'z', 5)])\n",
    "\n",
    "# get labels and set positions\n",
    "Glabels = nx.get_edge_attributes(G, 'weight')\n",
    "pos = {'u': [0, 1], 'v': [1, 2], 'x': [1, 0], 'y': [2, 0], 'w': [2, 2], 'z': [3, 1]}\n",
    "\n",
    "# Draw the graph\n",
    "plt.figure()\n",
    "nx.draw(G, pos, with_labels=True)\n",
    "nx.draw_networkx_edge_labels(G, pos, edge_labels=Glabels, font_weight='bold')"
   ]
  },
  {
   "cell_type": "markdown",
   "metadata": {},
   "source": [
    "Take the pseudocode of the Dijkstra’s algorithm provided in the lectures as a reference. Before you write your own implementation of the algorithm, here are a few useful **hints**: \n",
    "\n",
    "* You can rely on networkx library functions to access the properties of the graph defined in graph_for_routing.py . For example: G[‘u’], G.nodes(), G.edges(), etc.\n",
    "* You can use python list as an ordered data structure to store the list of previous nodes."
   ]
  },
  {
   "cell_type": "markdown",
   "metadata": {},
   "source": [
    "### Question 3.1. \n",
    "\n",
    "Write your own implementation of Dijkstra’s algorithm in the form of a function, e.g. *mydijkstra(inputgraph,sourcenode)*. \n",
    "\n",
    "You can use the graph G in the provided above as the input. Your function should return \n",
    "1. the list of the distance of all nodes in the inputgraph to the given sourcenode (distance to self is zero)\n",
    "\n",
    "2. the list of previous node(s) as part of the shortest path solution as discussed in lectures. Fully comment your code to demonstrate your understanding of the algorithm. \n",
    "\n",
    "Provide the full source code of your script along with your function below (or as a separate file).\n",
    "\n",
    "> Note that although you can find many variants online, it is important that you write your own code in your own style. There are many ways of implementing Dijkstra’s algorithm depending on the data structures used. Do not worry about efficiency of your code for this exercise. "
   ]
  },
  {
   "cell_type": "code",
   "execution_count": null,
   "metadata": {
    "scrolled": true
   },
   "outputs": [
    {
     "name": "stdout",
     "output_type": "stream",
     "text": [
      "Shortest paths from node 'u': {'u': 0, 'v': 2, 'w': 3, 'x': 1, 'y': 2, 'z': 4}\n"
     ]
    }
   ],
   "source": [
    "''' Answer as code here '''\n",
    "import heapq\n",
    "from collections import defaultdict\n",
    "\n",
    "def dijkstra(graph, start_node):\n",
    "    \"\"\"\n",
    "    Implementation of Dijkstra's algorithm for finding shortest paths in a graph.\n",
    "    \n",
    "    Args:\n",
    "        graph: Adjacency list representation of the graph.\n",
    "               graph[u] = [(v1, weight1), (v2, weight2), ...] \n",
    "               where u connects to v1 with weight1, etc.\n",
    "        start_node: The starting node for the shortest path calculations.\n",
    "    \n",
    "    Returns:\n",
    "        Dictionary mapping each node to its shortest distance from start_node.\n",
    "        Nodes unreachable from start_node will have distance float('inf').\n",
    "    \"\"\"\n",
    "    # Initialize all distances to infinity\n",
    "    distances = defaultdict(lambda: float('inf'))\n",
    "    distances[start_node] = 0\n",
    "    \n",
    "    # Priority queue: (distance, node)\n",
    "    priority_queue = [(0, start_node)]\n",
    "    \n",
    "    # Set to track visited/processed nodes\n",
    "    visited = set()\n",
    "    \n",
    "    while priority_queue:\n",
    "        current_distance, current_node = heapq.heappop(priority_queue)\n",
    "        \n",
    "        # Skip if we've already processed this node with a shorter distance\n",
    "        if current_node in visited:\n",
    "            continue\n",
    "            \n",
    "        visited.add(current_node)\n",
    "        \n",
    "        # Explore all neighbors of the current node\n",
    "        for neighbor, edge_weight in graph[current_node]:\n",
    "            if neighbor in visited:\n",
    "                continue\n",
    "                \n",
    "            # Calculate new distance to neighbor\n",
    "            new_distance = current_distance + edge_weight\n",
    "            \n",
    "            # Update if we found a shorter path\n",
    "            if new_distance < distances[neighbor]:\n",
    "                distances[neighbor] = new_distance\n",
    "                heapq.heappush(priority_queue, (new_distance, neighbor))\n",
    "    \n",
    "    return distances\n",
    "\n",
    "\n",
    "# Create adjacency list from the graph\n",
    "e = defaultdict(list)\n",
    "for u, v, data in G.edges(data=True):\n",
    "    e[u].append((v, data['weight']))\n",
    "    e[v].append((u, data['weight']))  # because the graph is undirected\n",
    "\n",
    "# Run Dijkstra's algorithm from node 'u'\n",
    "shortest_paths = dijkstra(e, 'u')\n",
    "# Convert defaultdict to a regular dict for clean output\n",
    "shortest_paths = dict(shortest_paths)\n",
    "print(\"Shortest paths from node 'u':\", shortest_paths)\n"
   ]
  },
  {
   "cell_type": "markdown",
   "metadata": {},
   "source": [
    "**Answer as text here**"
   ]
  },
  {
   "cell_type": "markdown",
   "metadata": {},
   "source": [
    "### Hints and Suggestions\n",
    "\n",
    "* Note that ```G[anode]``` returns a dictionary of anode’s neighbours and weights of respective links \n",
    "and ```G.nodes()``` returns the list of nodes in graph G.\n",
    "* You can convert a dictionary to a list and vice versa by using, e.g.\n",
    "\n",
    "```outputlist=[(item,itemval) for item,itemval in inputdict.items()]``` \n",
    "\n",
    "This is called list comprehension which is an elegant feature of python.\n",
    "\n",
    "```outputdict=dict([(item1,itemval1), (item2,itemval2), …])```\n",
    "* Another neat trick with list comprehension is on the fly filtering, e.g.\n",
    "\n",
    "```[(n,nval) for n,nval in InputDict.items() if n in AnotherList]```"
   ]
  },
  {
   "cell_type": "markdown",
   "metadata": {},
   "source": [
    "### Question 3.2. \n",
    "\n",
    "Check your answer using the (single source) Dijsktra functions provided by the networkx library."
   ]
  },
  {
   "cell_type": "code",
   "execution_count": 32,
   "metadata": {
    "scrolled": true
   },
   "outputs": [
    {
     "name": "stdout",
     "output_type": "stream",
     "text": [
      "NetworkX shortest path distances from node 'u': {'u': 0, 'x': 1, 'v': 2, 'y': 2, 'w': 3, 'z': 4}\n",
      "NetworkX shortest paths from node 'u': {'u': ['u'], 'v': ['u', 'v'], 'w': ['u', 'x', 'y', 'w'], 'x': ['u', 'x'], 'y': ['u', 'x', 'y'], 'z': ['u', 'x', 'y', 'z']}\n"
     ]
    }
   ],
   "source": [
    "''' Answer as code here '''\n",
    "# Use networkx built-in Dijkstra function to find shortest paths from node 'u'\n",
    "nx_distances = nx.single_source_dijkstra_path_length(G, 'u')\n",
    "print(\"NetworkX shortest path distances from node 'u':\", nx_distances)\n",
    "\n",
    "nx_prev_nodes = nx.single_source_dijkstra_path(G, 'u')\n",
    "print(\"NetworkX shortest paths from node 'u':\", nx_prev_nodes)"
   ]
  },
  {
   "cell_type": "markdown",
   "metadata": {},
   "source": [
    "**Answer as text here**"
   ]
  },
  {
   "cell_type": "markdown",
   "metadata": {},
   "source": [
    "### *Optional* Bonus \n",
    "\n",
    "Further test your algorithm with two other small (but larger than 8 node) weighted graphs. Check your answers using the networkx library functions."
   ]
  },
  {
   "cell_type": "code",
   "execution_count": 33,
   "metadata": {
    "scrolled": true
   },
   "outputs": [
    {
     "name": "stdout",
     "output_type": "stream",
     "text": [
      "My Dijkstra distances for G1 from 'A': {'A': 0, 'B': 3, 'C': 1, 'D': 5, 'E': 7, 'G': 11, 'F': 12, 'H': 13, 'I': 16}\n",
      "NetworkX distances for G1 from 'A': {'A': 0, 'C': 1, 'B': 3, 'D': 5, 'E': 7, 'G': 11, 'F': 12, 'H': 13, 'I': 16}\n",
      "My Dijkstra distances for G2 from 1: {1: 0, 2: 2, 3: 4, 4: 3, 7: 9, 6: 7, 5: 6, 8: 9, 9: 10}\n",
      "NetworkX distances for G2 from 1: {1: 0, 2: 2, 4: 3, 3: 4, 5: 6, 6: 7, 7: 9, 8: 9, 9: 10}\n"
     ]
    }
   ],
   "source": [
    "''' Answer as code here '''\n",
    "# Create two additional small weighted graphs (with more than 8 nodes)\n",
    "\n",
    "# First test graph\n",
    "G1 = nx.Graph()\n",
    "G1.add_weighted_edges_from([\n",
    "    ('A', 'B', 3), ('A', 'C', 1), ('B', 'D', 2), ('C', 'D', 4),\n",
    "    ('C', 'E', 8), ('D', 'E', 2), ('E', 'F', 5), ('F', 'G', 1),\n",
    "    ('G', 'H', 2), ('H', 'I', 3), ('F', 'I', 7), ('D', 'G', 6)\n",
    "])\n",
    "\n",
    "# Second test graph\n",
    "G2 = nx.Graph()\n",
    "G2.add_weighted_edges_from([\n",
    "    (1, 2, 2), (1, 3, 4), (2, 4, 1), (3, 4, 3), (3, 5, 2),\n",
    "    (4, 6, 5), (5, 6, 1), (5, 7, 3), (6, 8, 2), (7, 8, 4),\n",
    "    (8, 9, 1), (6, 9, 6), (2, 7, 7)\n",
    "])\n",
    "\n",
    "# Helper to convert networkx graph to adjacency list for our dijkstra function\n",
    "def nx_to_adjlist(graph):\n",
    "    adj = defaultdict(list)\n",
    "    for u, v, data in graph.edges(data=True):\n",
    "        adj[u].append((v, data['weight']))\n",
    "        adj[v].append((u, data['weight']))\n",
    "    return adj\n",
    "\n",
    "# Test our Dijkstra implementation on G1\n",
    "adj1 = nx_to_adjlist(G1)\n",
    "my_distances_G1 = dijkstra(adj1, 'A')\n",
    "print(\"My Dijkstra distances for G1 from 'A':\", dict(my_distances_G1))\n",
    "print(\"NetworkX distances for G1 from 'A':\", nx.single_source_dijkstra_path_length(G1, 'A'))\n",
    "\n",
    "# Test our Dijkstra implementation on G2\n",
    "adj2 = nx_to_adjlist(G2)\n",
    "my_distances_G2 = dijkstra(adj2, 1)\n",
    "print(\"My Dijkstra distances for G2 from 1:\", dict(my_distances_G2))\n",
    "print(\"NetworkX distances for G2 from 1:\", nx.single_source_dijkstra_path_length(G2, 1))"
   ]
  },
  {
   "cell_type": "markdown",
   "metadata": {},
   "source": [
    "**Answer as text here**"
   ]
  },
  {
   "cell_type": "markdown",
   "metadata": {},
   "source": [
    "# <font color='red'> Workshop Report Submission Instructions </font>\n",
    "\n",
    "_You should ideally complete the workshop tasks and answer the questions within the respective session!_ The submission deadline is usually Friday, the week after. Submission deadlines will be announced on *Canvas*.\n",
    "\n",
    "It is **mandatory to follow all of the submissions guidelines** given below. _Don't forget the Report submission information on top of this notebook!_\n",
    "\n",
    "1. The completed Jupyter notebook and its pdf version (you can simply print-preview and then print as pdf from within your browser) should be uploaded to the right place in *Canvas* by the announced deadline. You should NOT zip all your files into one. You MUST submit your report as a PDF file SEPARATELY to pass the plagiarism check.\n",
    "2. _It is your responsibility to follow the announcements!_ **Late submissions will be penalised (up to 100% of the total mark depending on delay amount)!**\n",
    "2. Filename should be “ELEN90061 Workshop **W: StudentID1-StudentID2** of session **Day-Time**\", where **W** refers to the workshop number, **StudentID1-StudentID2** are your student numbers, **Day-Time** is your session day and time, e.g. *Tue-14*.\n",
    "3. Answers to questions, simulation results and diagrams should be included in the Jupyter notebook as text, code, plots. *If you don't know latex, you can write formulas/text to a paper by hand, scan it and then include as image within Markdown cells.*\n",
    "4. One report submission per group. \n",
    " \n",
    "### Additional guidelines for your programs:\n",
    "\n",
    "* Write modular code using functions. \n",
    "* Properly indent your code. But Python forces you do that anyway ;)\n",
    "* Heavily comment the code to describe your implementation and to show your understanding. No comments, no credit!\n",
    "* Make the code your own! It is encouraged to find and get inspired by online examples but you should exactly understand, modify as needed, and explain your code via comments. There will be no credit for blind copy/paste even if it somehow works (and it is easier to detect it than you might think)!"
   ]
  },
  {
   "cell_type": "code",
   "execution_count": null,
   "metadata": {},
   "outputs": [],
   "source": []
  }
 ],
 "metadata": {
  "kernelspec": {
   "display_name": "auto",
   "language": "python",
   "name": "python3"
  },
  "language_info": {
   "codemirror_mode": {
    "name": "ipython",
    "version": 3
   },
   "file_extension": ".py",
   "mimetype": "text/x-python",
   "name": "python",
   "nbconvert_exporter": "python",
   "pygments_lexer": "ipython3",
   "version": "3.11.13"
  },
  "toc": {
   "base_numbering": 1,
   "nav_menu": {},
   "number_sections": false,
   "sideBar": true,
   "skip_h1_title": false,
   "title_cell": "Table of Contents",
   "title_sidebar": "Contents",
   "toc_cell": false,
   "toc_position": {},
   "toc_section_display": true,
   "toc_window_display": false
  }
 },
 "nbformat": 4,
 "nbformat_minor": 2
}
