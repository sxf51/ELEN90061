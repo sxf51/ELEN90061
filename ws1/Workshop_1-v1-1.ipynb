{
 "cells": [
  {
   "cell_type": "markdown",
   "metadata": {},
   "source": [
    "**<font color='red'>Report Submission Information (must be completed before submitting report!)</font>**\n",
    "\n",
    "* Student 1 Full Name and Number : 1372750\n",
    "* Student 2 Full Name and Number : \n",
    "* Workshop day : Wednesday\n",
    "* Workshop time : 1pm - 3pm"
   ]
  },
  {
   "cell_type": "markdown",
   "metadata": {},
   "source": [
    "# Workshop 1 Part 2 – Network Addressing\n",
    "\n",
    "## Objectives:\n",
    "\n",
    "* Gain hands-on experience on network addressing.\n",
    "* Practical experience with IPv4 and MAC addresses, prefixes, and [CIDR](https://en.wikipedia.org/wiki/Classless_Inter-Domain_Routing) using python.\n",
    "\n",
    "> __Common objectives of all workshops:__\n",
    "> Gain hands-on experience and learn by doing! Understand how theoretical knowledge discussed in lectures relates to practice. Develop motivation for gaining further theoretical and practical knowledge beyond the subject material.\n",
    "\n",
    "## Overview:\n",
    "In this workshop, you will gain practical experience on networking basics we have covered in the classroom focusing on network addressing. Firstly, you will learn how to represent and manipulate network addresses using the *netaddr* python library.  Specifically, you will experiment with IPv4 and MAC addresses, subnets, masks, prefixes, and CIDR.  "
   ]
  },
  {
   "cell_type": "markdown",
   "metadata": {},
   "source": [
    "## Workshop Preparation: [before you arrive to the lab]\n",
    "\n",
    "You can come to the workshops as you are or you can prepare beforehand to learn much more! \n",
    "We will give you a lot of time to finish the tasks but those are the bare minimums. Just like in the lectures, the topics we cover in the workshops are quite deep and we can only do so much in two hours. There is much more to learn and coming prepared to the workshop is one of the best ways to gain more knowledge! For example, there are a few questions in each workshop which you can answer beforehand.\n",
    "\n",
    "> __Self-learning__ is one of the most important skills that you should acquire as a student. Today, self-learning is much easier than it used to be thanks to a plethora of online resources.\n",
    "For this workshop, start by exploring the resource mentioned in the preparation steps below.\n",
    "\n",
    "### Workshop Preparation Steps:\n",
    "\n",
    "1. Common step for all workshops: read the Workshop Manual.    \n",
    "2. Review relevant lecture slides on addressing, graph theory, and routing.\n",
    "3. Read [netaddr](https://netaddr.readthedocs.io/en/latest/index.html) and [networkx](https://networkx.github.io/documentation/stable/index.html) documentation.\n",
    "4. Practice your Python skills.\n",
    "\n",
    "\n",
    "## Tasks and Questions:\n",
    "\n",
    "Follow the procedures described below, perform the given tasks and answer the workshop questions __preferably__ on the Python notebook itself! If you prefer, however, you can still provide answers as separate scripts and submit as a pdf file in addition to the Python notebook (code can be zipped). Ensure that your code is clean and appropriately commented. \n",
    "\n",
    "__The resulting notebook will be (part of) your Workshop Report!__\n",
    "\n",
    "> __The goal is to learn__, NOT blindly follow the procedures in the fastest possible way! __Do not simply copy-paste answers (from Internet, friends, etc.). You can and should use all available resources but only to develop your own understanding. If you copy-paste, you will pay the price in the final exam!__"
   ]
  },
  {
   "cell_type": "markdown",
   "metadata": {},
   "source": [
    "# Section 1: Network Addresses"
   ]
  },
  {
   "cell_type": "markdown",
   "metadata": {},
   "source": [
    "Refer to the [netaddr library documentation](https://netaddr.readthedocs.io/en/latest/index.html) for the following exercises. First, however, we need to install relevant packages.\n",
    "\n",
    "If you are using Anaconda, *networkx* should be already installed. **If not,** you can install simply by executing the following cell."
   ]
  },
  {
   "cell_type": "code",
   "execution_count": 1,
   "metadata": {},
   "outputs": [],
   "source": [
    "# !pip install networkx"
   ]
  },
  {
   "cell_type": "markdown",
   "metadata": {},
   "source": [
    "The package *netaddr* is probably not installed. You can install it similarly by executing"
   ]
  },
  {
   "cell_type": "code",
   "execution_count": 2,
   "metadata": {
    "scrolled": true
   },
   "outputs": [],
   "source": [
    "# !pip install netaddr"
   ]
  },
  {
   "cell_type": "markdown",
   "metadata": {},
   "source": [
    "Ask for help from your demonstrator in case you need it.\n",
    "Alternatively, you can install the needed packages by opening the terminal in Anaconda environment and typing\n",
    "``` pip install networkx ```\n",
    "and\n",
    "``` pip install netaddr ```"
   ]
  },
  {
   "cell_type": "code",
   "execution_count": 1,
   "metadata": {},
   "outputs": [],
   "source": [
    "# %matplotlib notebook\n",
    "from IPython import display\n",
    "import numpy as np\n",
    "import random \n",
    "import matplotlib.pyplot as plt\n",
    "\n",
    "from netaddr import *\n",
    "import pprint  #this is optional\n",
    "\n",
    "# Utils\n",
    "def binary_to_ipv4(binary_str):\n",
    "    octets = [binary_str[i:i+8] for i in range(0, len(binary_str), 8)]\n",
    "    decimal_octets = [str(int(octet, 2)) for octet in octets]\n",
    "    ipv4_address = '.'.join(decimal_octets)\n",
    "    return ipv4_address"
   ]
  },
  {
   "cell_type": "markdown",
   "metadata": {},
   "source": [
    "**<font color='red'>Do not forget to change the variables below for full credit!</font>**"
   ]
  },
  {
   "cell_type": "code",
   "execution_count": 4,
   "metadata": {},
   "outputs": [],
   "source": [
    "# Fixing random seed ensures that you always get the same pseudorandom numbers when using random package. \n",
    "# We do this to ensure reproducability but each group should have a different one. Here is a suggestion!\n",
    "#\n",
    "# You can use the hash of the ratio of your student numbers to obtain a unique, group-specific seed.\n",
    "\n",
    "studentid1 = 1372750\n",
    "studentid2 = 1454161\n",
    "a = hash(studentid1/studentid2) # use a hash of a function of your student id numbers for random seed\n",
    "random.seed(a) # needs to be called in each cell below"
   ]
  },
  {
   "cell_type": "markdown",
   "metadata": {},
   "source": [
    "In netaddr library, *IPAddress* object represents a single IP address whereas IPNetwork objects are used to represent subnets, networks or VLANs that accept CIDR prefixes and netmasks. \n",
    "\n",
    "### Question 1.1. \n",
    "Represent your computer’s IPv4 address using the IPAddress object,\n",
    "e.g. myip=IPAddress('10.100.144.45'). Now, referring to the library documentation, find its version, binary representation, and ipv6 mapping. Discuss your findings briefly.\n",
    "> Hint: you can find your computer’s IP address from command line using ipconfig in windows and ifconfig in linux."
   ]
  },
  {
   "cell_type": "code",
   "execution_count": 5,
   "metadata": {},
   "outputs": [
    {
     "name": "stdout",
     "output_type": "stream",
     "text": [
      "hostname: LAPTOP-NO69RPSV\n",
      "local IP is: 10.13.28.3\n",
      "The IP of my server is: 159.75.77.100\n",
      "version: 4\n",
      "binary representation: 0b1010000011010001110000000011\n",
      "ipv6 mapping: ::ffff:10.13.28.3\n"
     ]
    },
    {
     "data": {
      "text/plain": [
       "'0a0d1c03'"
      ]
     },
     "execution_count": 5,
     "metadata": {},
     "output_type": "execute_result"
    }
   ],
   "source": [
    "''' Answer as code here '''\n",
    "import socket\n",
    "hostname = socket.gethostname()\n",
    "print(\"hostname:\", hostname)\n",
    "localIP = socket.gethostbyname(hostname)\n",
    "\n",
    "myip_1 = IPAddress(localIP)\n",
    "myip_2 = IPAddress('159.75.77.100') # My server\n",
    "\n",
    "print(\"local IP is:\", myip_1)\n",
    "print(\"The IP of my server is:\", myip_2)\n",
    "\n",
    "IP_version = myip_1.version\n",
    "print(\"version:\", IP_version)\n",
    "\n",
    "IP_bin = myip_1.bin\n",
    "print(\"binary representation:\", IP_bin)\n",
    "\n",
    "\n",
    "IP_v6 = myip_1.ipv6(False)\n",
    "print(\"ipv6 mapping:\", IP_v6)\n",
    "\n",
    "myip_1.packed.hex()\n",
    "# myip_1_v6 = IPAddress('fe80::ffcb:3b3e:d0fe:5e86', version=6)"
   ]
  },
  {
   "cell_type": "markdown",
   "metadata": {},
   "source": [
    "**Answer as text here**\n"
   ]
  },
  {
   "cell_type": "markdown",
   "metadata": {},
   "source": [
    "### Question 1.2.\n",
    "\n",
    "Represent the following randomly generated **subnetwork** below, using *IPNetwork* object. Find, using netaddr library functions, its beginning IP address, prefix-length, size, broadcast, netmask, and hostmask. Find the broadcast, netmask, and hostmask bits in binary format. Discuss your findings briefly."
   ]
  },
  {
   "cell_type": "code",
   "execution_count": 6,
   "metadata": {},
   "outputs": [
    {
     "data": {
      "text/plain": [
       "'241.211.74.0/23'"
      ]
     },
     "execution_count": 6,
     "metadata": {},
     "output_type": "execute_result"
    }
   ],
   "source": [
    "random.seed(a) # each group gets a unique pseudorandom number\n",
    "bin_addr = \"{:b}\".format(random.randint(0, 2**32)<<9)\n",
    "subnetwork = binary_to_ipv4(bin_addr[-32:]) + '/23'\n",
    "subnetwork"
   ]
  },
  {
   "cell_type": "code",
   "execution_count": 7,
   "metadata": {},
   "outputs": [
    {
     "name": "stdout",
     "output_type": "stream",
     "text": [
      "beginning IP address: 241.211.74.0\n",
      "prefix length: 23\n",
      "size: 512\n",
      "broadcast: 241.211.75.255\n",
      "netmask: 255.255.254.0\n",
      "hostmask 0.0.1.255\n"
     ]
    }
   ],
   "source": [
    "''' Answer as code here '''\n",
    "\n",
    "subnet = IPNetwork(subnetwork)\n",
    "subnet_ipaddr = subnet.network\n",
    "print(\"beginning IP address:\", subnet_ipaddr)\n",
    "\n",
    "subnet_prefix = subnet.prefixlen\n",
    "print(\"prefix length:\", subnet_prefix)\n",
    "\n",
    "subnet_size = subnet.size\n",
    "print(\"size:\", subnet_size)\n",
    "\n",
    "subnet_broadcast = subnet.broadcast\n",
    "print(\"broadcast:\", subnet_broadcast)\n",
    "\n",
    "subnet_netmask = subnet.netmask\n",
    "print(\"netmask:\", subnet_netmask)\n",
    "\n",
    "subnet_hostmask = subnet.hostmask\n",
    "print(\"hostmask\", subnet_hostmask)"
   ]
  },
  {
   "cell_type": "markdown",
   "metadata": {},
   "source": [
    "**Answer as text here**"
   ]
  },
  {
   "cell_type": "markdown",
   "metadata": {},
   "source": [
    "Next, we will investigate subnets, supernets, arbitrary IP address ranges and how to represent those using CIDR notation. You can apply these tools to example problems we have done in the lectures as well!"
   ]
  },
  {
   "cell_type": "markdown",
   "metadata": {},
   "source": [
    "### Question 1.3. \n",
    "\n",
    "Create and list subnets and supernets with prefix-lengths of 26 and 20, that are contained within and contain the randomly generated **subnetwork2** below, respectively, using *subnet* and *supernet* functions. Explain/comment briefly."
   ]
  },
  {
   "cell_type": "code",
   "execution_count": 8,
   "metadata": {},
   "outputs": [
    {
     "data": {
      "text/plain": [
       "'174.191.82.0/23'"
      ]
     },
     "execution_count": 8,
     "metadata": {},
     "output_type": "execute_result"
    }
   ],
   "source": [
    "random.seed(a+1) # each group gets a unique pseudorandom number\n",
    "bin_addr2 = \"{:b}\".format(random.randint(0, 2**32)<<9)\n",
    "subnetwork2 = binary_to_ipv4(bin_addr2[-32:]) + '/23'\n",
    "subnetwork2"
   ]
  },
  {
   "cell_type": "code",
   "execution_count": 9,
   "metadata": {},
   "outputs": [
    {
     "name": "stdout",
     "output_type": "stream",
     "text": [
      "Subnets (/26) in 174.191.82.0/23:\n",
      "1. 174.191.82.0/26\n",
      "2. 174.191.82.64/26\n",
      "3. 174.191.82.128/26\n",
      "4. 174.191.82.192/26\n",
      "5. 174.191.83.0/26\n",
      "6. 174.191.83.64/26\n",
      "7. 174.191.83.128/26\n",
      "8. 174.191.83.192/26\n"
     ]
    }
   ],
   "source": [
    "''' Answer as code here '''\n",
    "\n",
    "subnet2 = IPNetwork(subnetwork2)\n",
    "subnets_26 = list(subnet2.subnet(26))\n",
    "\n",
    "print(f\"Subnets (/26) in {subnet2}:\")\n",
    "for i, subnet in enumerate(subnets_26, 1):\n",
    "    print(f\"{i}. {subnet}\")"
   ]
  },
  {
   "cell_type": "code",
   "execution_count": 10,
   "metadata": {},
   "outputs": [
    {
     "name": "stdout",
     "output_type": "stream",
     "text": [
      "\n",
      "Supernets (/20) containing 174.191.82.0/23:\n",
      "0. 174.191.80.0/20\n",
      "1. 174.191.80.0/21\n",
      "2. 174.191.80.0/22\n"
     ]
    }
   ],
   "source": [
    "supernets_20 = list(subnet2.supernet(20))\n",
    "\n",
    "print(f\"\\nSupernets (/20) containing {subnet2}:\")\n",
    "for i, supernet in enumerate(supernets_20):\n",
    "    print(f\"{i}. {supernet}\")"
   ]
  },
  {
   "cell_type": "markdown",
   "metadata": {},
   "source": [
    "**Answer as text here**"
   ]
  },
  {
   "cell_type": "markdown",
   "metadata": {},
   "source": [
    "### Question 1.4. \n",
    "\n",
    "Create a subnet for the range of addresses between 192.0.2.1 and 192.0.2.33 using *IPRange* function. What are the CIDR subnetworks that cover this range of addresses? Can you cover this range with a superset of two CIDR subnetworks that differs from the original set by only one IP address? What is that extra IP address?"
   ]
  },
  {
   "cell_type": "code",
   "execution_count": 11,
   "metadata": {},
   "outputs": [
    {
     "name": "stdout",
     "output_type": "stream",
     "text": [
      "CIDR subnetworks: \n",
      "192.0.2.1/32\n",
      "192.0.2.2/31\n",
      "192.0.2.4/30\n",
      "192.0.2.8/29\n",
      "192.0.2.16/28\n",
      "192.0.2.32/31\n",
      "\n",
      "The superset of two CIDR: \n",
      "192.0.2.0/27\n",
      "192.0.2.32/31\n",
      "\n",
      "extra IP address: \n",
      "192.0.2.0\n"
     ]
    }
   ],
   "source": [
    "''' Answer as code here '''\n",
    "\n",
    "start_ip = IPNetwork(\"192.0.2.1\").ip\n",
    "end_ip   = IPNetwork(\"192.0.2.33\").ip\n",
    "\n",
    "netrange = IPRange(start_ip, end_ip)\n",
    "\n",
    "print(\"CIDR subnetworks: \")\n",
    "cidr_list = netrange.cidrs()\n",
    "for cidr in cidr_list:\n",
    "    print(cidr)\n",
    "\n",
    "superset = [\n",
    "    IPNetwork(\"192.0.2.0/27\"),\n",
    "    IPNetwork(\"192.0.2.32/31\")\n",
    "]\n",
    "\n",
    "print(\"\\nThe superset of two CIDR: \")\n",
    "for net in superset:\n",
    "    print(net)\n",
    "\n",
    "original_ips = set(netrange)\n",
    "superset_ips = set()\n",
    "for net in superset:\n",
    "    superset_ips.update(net)\n",
    "\n",
    "extra_ips = superset_ips - original_ips\n",
    "\n",
    "print(\"\\nextra IP address: \")\n",
    "for ip in sorted(extra_ips):\n",
    "    print(ip)\n"
   ]
  },
  {
   "cell_type": "markdown",
   "metadata": {},
   "source": [
    "**Answer as text here**"
   ]
  },
  {
   "cell_type": "markdown",
   "metadata": {},
   "source": [
    "Finally, we have a look at MAC addresses. The netaddr library EUI objects provide an interface to the **OUI** (Organisationally Unique Identifier) and **IAB** (Individual Address Block) registration databases available from the IEEE. Explain your findings and/or comment briefly."
   ]
  },
  {
   "cell_type": "markdown",
   "metadata": {},
   "source": [
    "### Question 1.5. \n",
    "\n",
    "Find the MAC address of your computer or mobile device (e.g. using ipconfig or device settings). Create an EUI object and find OUI (or IAB) details as well as registration information of your network device. \n",
    "\n",
    "> Note: the database installed with netaddr can be over one year old, so if your device is newer, it cannot find its registration!"
   ]
  },
  {
   "cell_type": "code",
   "execution_count": 12,
   "metadata": {},
   "outputs": [
    {
     "name": "stdout",
     "output_type": "stream",
     "text": [
      "MAC address: f8:fe:5e:7f:4d:c9\n",
      "OUI: {'address': ['Lot 8, Jalan Hi-Tech 2/3', 'Kulim  Kedah  09000', 'MY'],\n",
      " 'idx': 16318046,\n",
      " 'offset': 3422604,\n",
      " 'org': 'Intel Corporate',\n",
      " 'oui': 'F8-FE-5E',\n",
      " 'size': 141}\n"
     ]
    }
   ],
   "source": [
    "''' Answer as code here '''\n",
    "\n",
    "mac_str = \"F8-FE-5E-7F-4D-C9\"\n",
    "\n",
    "mac = EUI(mac_str)\n",
    "\n",
    "mac.dialect = mac_unix_expanded\n",
    "\n",
    "oui = mac.oui  # OUI 对象\n",
    "print(f\"MAC address: {mac}\")\n",
    "print(f\"OUI: {oui.registration()}\")"
   ]
  },
  {
   "cell_type": "markdown",
   "metadata": {},
   "source": [
    "**Answer as text here**"
   ]
  },
  {
   "cell_type": "markdown",
   "metadata": {},
   "source": [
    "# <font color='red'> Workshop Report Submission Instructions </font>\n",
    "\n",
    "_You should ideally complete the workshop tasks and answer the questions within the respective session!_ Submission deadlines will be announced on *Canvas/LMS*.\n",
    "\n",
    "It is **mandatory to follow all of the submissions guidelines** given below. _Don't forget the Report submission information on top of this notebook!_\n",
    "\n",
    "1. The completed Jupyter notebook and its pdf version (you can simply print-preview and then print as pdf from within your browser) should be uploaded to the right place in *Canvas* by the announced deadline. You should NOT zip all your files into one. You MUST submit your report as a PDF file SEPARATELY to pass the plagiarism check.\n",
    "2. _It is your responsibility to follow the announcements!_ **Late submissions will be penalised!**\n",
    "2. Filename should be “ELEN90061 Workshop **W: StudentID1-StudentID2** of session **Day-Time**\", where **W** refers to the workshop number, **StudentID1-StudentID2** are your student numbers, **Day-Time** is your session day and time, e.g. *Tue-14*.\n",
    "3. Answers to questions, simulation results and diagrams should be included in the Jupyter notebook as text, code, plots. *If you don't know latex, you can write formulas/text to a paper by hand, scan it and then include as image within Markdown cells.*\n",
    "4. One report submission per group. \n",
    " \n",
    "### Additional guidelines for your programs:\n",
    "\n",
    "* Write modular code using functions. \n",
    "* Properly indent your code. But Python forces you do that anyway ;)\n",
    "* Heavily comment the code to describe your implementation and to show your understanding. No comments, no credit!\n",
    "* Make the code your own! It is encouraged to find and get inspired by online examples but you should exactly understand, modify as needed, and explain your code via comments. There will be no credit for blind copy/paste even if it somehow works (and it is easier to detect it than you might think)!"
   ]
  },
  {
   "cell_type": "code",
   "execution_count": null,
   "metadata": {},
   "outputs": [],
   "source": []
  }
 ],
 "metadata": {
  "kernelspec": {
   "display_name": "auto",
   "language": "python",
   "name": "python3"
  },
  "language_info": {
   "codemirror_mode": {
    "name": "ipython",
    "version": 3
   },
   "file_extension": ".py",
   "mimetype": "text/x-python",
   "name": "python",
   "nbconvert_exporter": "python",
   "pygments_lexer": "ipython3",
   "version": "3.11.13"
  },
  "toc": {
   "base_numbering": 1,
   "nav_menu": {},
   "number_sections": true,
   "sideBar": true,
   "skip_h1_title": false,
   "title_cell": "Table of Contents",
   "title_sidebar": "Contents",
   "toc_cell": false,
   "toc_position": {},
   "toc_section_display": true,
   "toc_window_display": false
  }
 },
 "nbformat": 4,
 "nbformat_minor": 4
}
